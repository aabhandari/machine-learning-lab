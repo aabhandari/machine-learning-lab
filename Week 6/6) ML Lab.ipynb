{
 "cells": [
  {
   "cell_type": "markdown",
   "id": "d76726c3",
   "metadata": {},
   "source": [
    "Write a PYTHON program for linear regression using normal equation - by Aashish Bhandari, 2K19/CO/008"
   ]
  },
  {
   "cell_type": "markdown",
   "id": "997a8af1",
   "metadata": {},
   "source": [
    "# Importing libraries"
   ]
  },
  {
   "cell_type": "code",
   "execution_count": 1,
   "id": "eb8de754",
   "metadata": {},
   "outputs": [],
   "source": [
    "import numpy as np\n",
    "import matplotlib.pyplot as plt\n",
    "import pandas as pd"
   ]
  },
  {
   "cell_type": "markdown",
   "id": "0a3de6c2",
   "metadata": {},
   "source": [
    "# Reading and plotting the data"
   ]
  },
  {
   "cell_type": "code",
   "execution_count": 5,
   "id": "81fa139f",
   "metadata": {},
   "outputs": [
    {
     "data": {
      "text/plain": [
       "<matplotlib.collections.PathCollection at 0x7fdf100423a0>"
      ]
     },
     "execution_count": 5,
     "metadata": {},
     "output_type": "execute_result"
    },
    {
     "data": {
      "image/png": "[encoded data removed]",
      "text/plain": [
       "<Figure size 432x288 with 1 Axes>"
      ]
     },
     "metadata": {
      "needs_background": "light"
     },
     "output_type": "display_data"
    }
   ],
   "source": [
    "x =  np.array([1,2,3,4,5]) \n",
    "y =  np.array([7,9,12,15,16])   \n",
    "plt.scatter(x,y,color='red')"
   ]
  },
  {
   "cell_type": "markdown",
   "id": "bc16eabb",
   "metadata": {},
   "source": [
    "# Implementing linear regression"
   ]
  },
  {
   "cell_type": "code",
   "execution_count": 3,
   "id": "1293bf65",
   "metadata": {},
   "outputs": [
    {
     "name": "stdout",
     "output_type": "stream",
     "text": [
      "[4.6 2.4]\n"
     ]
    }
   ],
   "source": [
    "x_bias = np.ones((5,1))\n",
    "x = np.reshape(x,(5,1))\n",
    "x = np.append(x_bias,x,axis=1)\n",
    "x_transpose = np.transpose(x)\n",
    "x_transpose_dot_x = x_transpose.dot(x)\n",
    "temp_1 = np.linalg.inv(x_transpose_dot_x)\n",
    "temp_2=x_transpose.dot(y)\n",
    "theta =temp_1.dot(temp_2)\n",
    "print(theta)"
   ]
  },
  {
   "cell_type": "code",
   "execution_count": 4,
   "id": "0ae4ca7f",
   "metadata": {},
   "outputs": [
    {
     "data": {
      "image/png": "[encoded data removed]",
      "text/plain": [
       "<Figure size 432x288 with 1 Axes>"
      ]
     },
     "metadata": {
      "needs_background": "light"
     },
     "output_type": "display_data"
    }
   ],
   "source": [
    "y = 4.6 + 2.4*x            \n",
    "plt.scatter(x,y,color='red')\n",
    "plt.plot(x,y,color='blue')\n",
    "plt.show()"
   ]
  },
  {
   "cell_type": "code",
   "execution_count": null,
   "id": "d21e5f16",
   "metadata": {},
   "outputs": [],
   "source": []
  }
 ],
 "metadata": {
  "kernelspec": {
   "display_name": "Python 3 (ipykernel)",
   "language": "python",
   "name": "python3"
  },
  "language_info": {
   "codemirror_mode": {
    "name": "ipython",
    "version": 3
   },
   "file_extension": ".py",
   "mimetype": "text/x-python",
   "name": "python",
   "nbconvert_exporter": "python",
   "pygments_lexer": "ipython3",
   "version": "3.8.11"
  }
 },
 "nbformat": 4,
 "nbformat_minor": 5
}
